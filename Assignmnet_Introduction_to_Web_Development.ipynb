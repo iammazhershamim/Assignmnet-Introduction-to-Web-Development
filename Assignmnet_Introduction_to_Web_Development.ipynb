{
  "nbformat": 4,
  "nbformat_minor": 0,
  "metadata": {
    "colab": {
      "provenance": []
    },
    "kernelspec": {
      "name": "python3",
      "display_name": "Python 3"
    },
    "language_info": {
      "name": "python"
    }
  },
  "cells": [
    {
      "cell_type": "markdown",
      "source": [
        "#1. Explain the main components of client-server architecture and their function"
      ],
      "metadata": {
        "id": "LwB7j_yXmNtB"
      }
    },
    {
      "cell_type": "markdown",
      "source": [
        "Answer: Client - User's device or app that asks for (eg web page).\n",
        "\n",
        "Server - A powerful computer that processes the request and sends back which is necessary.\n",
        "\n",
        "Network- Connection (like internet) that lets them talk to each other.\n",
        "\n",
        "\n",
        "\n",
        "Example: When I open Google, my browser (client) asks Google's server for the page, reacts servers, and I can see the website. Easy!"
      ],
      "metadata": {
        "id": "75cHIi1ZmXwh"
      }
    },
    {
      "cell_type": "markdown",
      "source": [
        "#2. Discuss the various career paths available after completing a web development course"
      ],
      "metadata": {
        "id": "QyNg054xnvwH"
      }
    },
    {
      "cell_type": "markdown",
      "source": [
        "👉 Frontnd Developer - HTML, CSS, creates a view part of the websites using JavaScript.\n",
        "👉 Backnd Developer - Node.JS, PHP, manages database and server logic using Python.\n",
        "👉 It handles both full-stack developer-fraternand and backnd.\n",
        "👉 Web Designer - The website focuses on layout and UI/UX.\n",
        "👉 E-commerce develops the developer-online store.\n",
        "👉 Web app developers - develops interactive web apps.\n",
        "👉 Mobile App Developer - Converts web apps into mobile (react native, flutter).\n",
        "👉 Freelancer/entrepreneur - provides web development services independently."
      ],
      "metadata": {
        "id": "3lR9-w3MnDEp"
      }
    },
    {
      "cell_type": "markdown",
      "source": [
        "#3. Describe the role of a web browser's developer tools in web development"
      ],
      "metadata": {
        "id": "FUvho6lIoM-U"
      }
    },
    {
      "cell_type": "markdown",
      "source": [
        "Answer : Developer Tools (DevTools) in a web browser help developers inspect, debug, and optimize websites. They allow real-time editing of HTML/CSS, debugging JavaScript errors, analyzing performance, monitoring network activity, and testing responsiveness. DevTools are essential for fixing issues and improving web applications efficiently."
      ],
      "metadata": {
        "id": "PnSWWmbKoJBb"
      }
    },
    {
      "cell_type": "markdown",
      "source": [
        "#4.What are the advantages of using a Version Control System like Git in a development project"
      ],
      "metadata": {
        "id": "dkwf0WJfoT1U"
      }
    },
    {
      "cell_type": "markdown",
      "source": [
        "Using GIT in a development project makes the work easier and more organized. here's why:\n",
        "\n",
        "Track change - If you make a mistake, you can go back to the earlier version.\n",
        "Teamwork made easy - many people can work on the same project without messing up each other's code.\n",
        "Work on different characteristics - you can make separate branches for new features and later merge them.\n",
        "The code keeps safe - your code is backup, so you did not lose it.\n",
        "Better outfits - Every change is saved with a message, making it easier to understand what was done.\n",
        "Helps with automation - works well with devices that automatically test and deploy the code.\n",
        "In short, the guit helps to keep your project safe, organized and easier in management."
      ],
      "metadata": {
        "id": "lSARcWZXpLDR"
      }
    },
    {
      "cell_type": "markdown",
      "source": [],
      "metadata": {
        "id": "_hNHd0tdp0l-"
      }
    },
    {
      "cell_type": "markdown",
      "source": [
        "# 5.Compare and contrast a text editor and an IDE, highlighting their key features and uses."
      ],
      "metadata": {
        "id": "0qeqxD_yqTe1"
      }
    },
    {
      "cell_type": "markdown",
      "source": [
        "A text editor is a light tool for writing and editing code, which offers basic features such as Syntax Highlighting (eg, notepad ++, sublime text). An IDE (integrated growth environment) is a full-feature software suit with debugging, compilation and automation tools (eg, vs. code, pycharm).\n",
        "\n",
        "Text Editor → Best for simple, fast, small projects.\n",
        "Ide → powerful, includes debugging and automation, best for large projects."
      ],
      "metadata": {
        "id": "AiisKZxNqRyW"
      }
    }
  ]
}